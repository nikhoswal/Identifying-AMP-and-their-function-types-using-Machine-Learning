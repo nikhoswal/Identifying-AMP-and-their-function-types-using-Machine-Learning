{
 "cells": [
  {
   "cell_type": "code",
   "execution_count": 1,
   "metadata": {
    "colab": {},
    "colab_type": "code",
    "id": "OMoz3W_UcCxi"
   },
   "outputs": [],
   "source": [
    "import pandas as pd\n",
    "import warnings\n",
    "import matplotlib.pyplot as plt\n",
    "import seaborn as sns\n",
    "\n",
    "warnings.filterwarnings('ignore')\n",
    "from sklearn.metrics import accuracy_score, f1_score, precision_score, recall_score, classification_report, confusion_matrix\n",
    "\n",
    "from sklearn.model_selection import train_test_split\n",
    "import numpy as np\n",
    "from sklearn.model_selection import StratifiedKFold\n",
    "from scipy.io.arff import loadarff \n"
   ]
  },
  {
   "cell_type": "code",
   "execution_count": 2,
   "metadata": {
    "colab": {
     "base_uri": "https://localhost:8080/",
     "height": 71
    },
    "colab_type": "code",
    "id": "QCOdsLcycOTx",
    "outputId": "6baf7b09-9bb7-4d32-c7e3-8a17222cf44e"
   },
   "outputs": [
    {
     "name": "stderr",
     "output_type": "stream",
     "text": [
      "Using TensorFlow backend.\n"
     ]
    }
   ],
   "source": [
    "from sklearn.ensemble import RandomForestClassifier\n",
    "from sklearn.naive_bayes import GaussianNB,MultinomialNB,ComplementNB,BernoulliNB\n",
    "\n",
    "from imblearn.under_sampling import RandomUnderSampler\n",
    "from sklearn import model_selection, naive_bayes, svm\n"
   ]
  },
  {
   "cell_type": "markdown",
   "metadata": {
    "colab_type": "text",
    "id": "cmE7dF0qX0qQ"
   },
   "source": [
    "## Reading dataset"
   ]
  },
  {
   "cell_type": "code",
   "execution_count": 3,
   "metadata": {
    "colab": {},
    "colab_type": "code",
    "id": "2D_2OK1VX0qQ"
   },
   "outputs": [],
   "source": [
    "raw_data = loadarff('Part1Features.arff')\n",
    "train_data = pd.DataFrame(raw_data[0])\n",
    "train_data['class'].replace({b'-1':-1, b'1': 1}, inplace= True)"
   ]
  },
  {
   "cell_type": "code",
   "execution_count": 4,
   "metadata": {
    "colab": {
     "base_uri": "https://localhost:8080/",
     "height": 102
    },
    "colab_type": "code",
    "id": "cEZZ8Ru_fUPH",
    "outputId": "b80dd035-ec80-4746-b8df-c631d198c4e0"
   },
   "outputs": [
    {
     "name": "stdout",
     "output_type": "stream",
     "text": [
      "<class 'pandas.core.frame.DataFrame'>\n",
      "RangeIndex: 6989 entries, 0 to 6988\n",
      "Columns: 189 entries, Feature1 to class\n",
      "dtypes: float64(188), int64(1)\n",
      "memory usage: 10.1 MB\n"
     ]
    }
   ],
   "source": [
    "train_data.info()"
   ]
  },
  {
   "cell_type": "markdown",
   "metadata": {
    "colab_type": "text",
    "id": "g72Mn1DRX0qS"
   },
   "source": [
    "## Exploratory Data Analysis"
   ]
  },
  {
   "cell_type": "code",
   "execution_count": 5,
   "metadata": {
    "colab": {
     "base_uri": "https://localhost:8080/",
     "height": 253
    },
    "colab_type": "code",
    "id": "h-R2NVwtX0qT",
    "outputId": "f13abbc3-a365-4951-cfd7-d6bf43140fb2"
   },
   "outputs": [
    {
     "data": {
      "text/html": [
       "<div>\n",
       "<style scoped>\n",
       "    .dataframe tbody tr th:only-of-type {\n",
       "        vertical-align: middle;\n",
       "    }\n",
       "\n",
       "    .dataframe tbody tr th {\n",
       "        vertical-align: top;\n",
       "    }\n",
       "\n",
       "    .dataframe thead th {\n",
       "        text-align: right;\n",
       "    }\n",
       "</style>\n",
       "<table border=\"1\" class=\"dataframe\">\n",
       "  <thead>\n",
       "    <tr style=\"text-align: right;\">\n",
       "      <th></th>\n",
       "      <th>Feature1</th>\n",
       "      <th>Feature2</th>\n",
       "      <th>Feature3</th>\n",
       "      <th>Feature4</th>\n",
       "      <th>Feature5</th>\n",
       "      <th>Feature6</th>\n",
       "      <th>Feature7</th>\n",
       "      <th>Feature8</th>\n",
       "      <th>Feature9</th>\n",
       "      <th>Feature10</th>\n",
       "      <th>...</th>\n",
       "      <th>Feature180</th>\n",
       "      <th>Feature181</th>\n",
       "      <th>Feature182</th>\n",
       "      <th>Feature183</th>\n",
       "      <th>Feature184</th>\n",
       "      <th>Feature185</th>\n",
       "      <th>Feature186</th>\n",
       "      <th>Feature187</th>\n",
       "      <th>Feature188</th>\n",
       "      <th>class</th>\n",
       "    </tr>\n",
       "  </thead>\n",
       "  <tbody>\n",
       "    <tr>\n",
       "      <th>0</th>\n",
       "      <td>0.000000</td>\n",
       "      <td>0.0</td>\n",
       "      <td>0.000000</td>\n",
       "      <td>0.000000</td>\n",
       "      <td>9.090909</td>\n",
       "      <td>27.272727</td>\n",
       "      <td>0.000000</td>\n",
       "      <td>9.090909</td>\n",
       "      <td>0.000000</td>\n",
       "      <td>9.090909</td>\n",
       "      <td>...</td>\n",
       "      <td>0.000000</td>\n",
       "      <td>0.000000</td>\n",
       "      <td>0.000000</td>\n",
       "      <td>90.909091</td>\n",
       "      <td>18.181818</td>\n",
       "      <td>18.181818</td>\n",
       "      <td>27.272727</td>\n",
       "      <td>63.636364</td>\n",
       "      <td>100.000000</td>\n",
       "      <td>-1</td>\n",
       "    </tr>\n",
       "    <tr>\n",
       "      <th>1</th>\n",
       "      <td>0.000000</td>\n",
       "      <td>0.0</td>\n",
       "      <td>0.000000</td>\n",
       "      <td>0.000000</td>\n",
       "      <td>9.090909</td>\n",
       "      <td>27.272727</td>\n",
       "      <td>0.000000</td>\n",
       "      <td>9.090909</td>\n",
       "      <td>0.000000</td>\n",
       "      <td>9.090909</td>\n",
       "      <td>...</td>\n",
       "      <td>0.000000</td>\n",
       "      <td>0.000000</td>\n",
       "      <td>0.000000</td>\n",
       "      <td>90.909091</td>\n",
       "      <td>18.181818</td>\n",
       "      <td>18.181818</td>\n",
       "      <td>27.272727</td>\n",
       "      <td>63.636364</td>\n",
       "      <td>100.000000</td>\n",
       "      <td>-1</td>\n",
       "    </tr>\n",
       "    <tr>\n",
       "      <th>2</th>\n",
       "      <td>9.090909</td>\n",
       "      <td>0.0</td>\n",
       "      <td>0.000000</td>\n",
       "      <td>0.000000</td>\n",
       "      <td>0.000000</td>\n",
       "      <td>18.181818</td>\n",
       "      <td>0.000000</td>\n",
       "      <td>9.090909</td>\n",
       "      <td>0.000000</td>\n",
       "      <td>9.090909</td>\n",
       "      <td>...</td>\n",
       "      <td>0.000000</td>\n",
       "      <td>90.909091</td>\n",
       "      <td>90.909091</td>\n",
       "      <td>100.000000</td>\n",
       "      <td>27.272727</td>\n",
       "      <td>0.000000</td>\n",
       "      <td>27.272727</td>\n",
       "      <td>63.636364</td>\n",
       "      <td>81.818182</td>\n",
       "      <td>-1</td>\n",
       "    </tr>\n",
       "    <tr>\n",
       "      <th>3</th>\n",
       "      <td>0.000000</td>\n",
       "      <td>0.0</td>\n",
       "      <td>0.000000</td>\n",
       "      <td>9.090909</td>\n",
       "      <td>9.090909</td>\n",
       "      <td>9.090909</td>\n",
       "      <td>0.000000</td>\n",
       "      <td>18.181818</td>\n",
       "      <td>0.000000</td>\n",
       "      <td>0.000000</td>\n",
       "      <td>...</td>\n",
       "      <td>0.000000</td>\n",
       "      <td>36.363636</td>\n",
       "      <td>36.363636</td>\n",
       "      <td>63.636364</td>\n",
       "      <td>9.090909</td>\n",
       "      <td>9.090909</td>\n",
       "      <td>27.272727</td>\n",
       "      <td>54.545455</td>\n",
       "      <td>72.727273</td>\n",
       "      <td>-1</td>\n",
       "    </tr>\n",
       "    <tr>\n",
       "      <th>4</th>\n",
       "      <td>0.000000</td>\n",
       "      <td>0.0</td>\n",
       "      <td>9.090909</td>\n",
       "      <td>9.090909</td>\n",
       "      <td>0.000000</td>\n",
       "      <td>18.181818</td>\n",
       "      <td>0.000000</td>\n",
       "      <td>0.000000</td>\n",
       "      <td>0.000000</td>\n",
       "      <td>9.090909</td>\n",
       "      <td>...</td>\n",
       "      <td>9.090909</td>\n",
       "      <td>18.181818</td>\n",
       "      <td>54.545455</td>\n",
       "      <td>90.909091</td>\n",
       "      <td>45.454545</td>\n",
       "      <td>45.454545</td>\n",
       "      <td>63.636364</td>\n",
       "      <td>72.727273</td>\n",
       "      <td>81.818182</td>\n",
       "      <td>-1</td>\n",
       "    </tr>\n",
       "    <tr>\n",
       "      <th>5</th>\n",
       "      <td>9.090909</td>\n",
       "      <td>0.0</td>\n",
       "      <td>9.090909</td>\n",
       "      <td>9.090909</td>\n",
       "      <td>18.181818</td>\n",
       "      <td>0.000000</td>\n",
       "      <td>9.090909</td>\n",
       "      <td>0.000000</td>\n",
       "      <td>18.181818</td>\n",
       "      <td>9.090909</td>\n",
       "      <td>...</td>\n",
       "      <td>9.090909</td>\n",
       "      <td>45.454545</td>\n",
       "      <td>54.545455</td>\n",
       "      <td>90.909091</td>\n",
       "      <td>100.000000</td>\n",
       "      <td>0.000000</td>\n",
       "      <td>0.000000</td>\n",
       "      <td>0.000000</td>\n",
       "      <td>100.000000</td>\n",
       "      <td>-1</td>\n",
       "    </tr>\n",
       "    <tr>\n",
       "      <th>6</th>\n",
       "      <td>0.000000</td>\n",
       "      <td>0.0</td>\n",
       "      <td>0.000000</td>\n",
       "      <td>0.000000</td>\n",
       "      <td>9.090909</td>\n",
       "      <td>0.000000</td>\n",
       "      <td>0.000000</td>\n",
       "      <td>0.000000</td>\n",
       "      <td>0.000000</td>\n",
       "      <td>18.181818</td>\n",
       "      <td>...</td>\n",
       "      <td>18.181818</td>\n",
       "      <td>27.272727</td>\n",
       "      <td>72.727273</td>\n",
       "      <td>90.909091</td>\n",
       "      <td>9.090909</td>\n",
       "      <td>9.090909</td>\n",
       "      <td>36.363636</td>\n",
       "      <td>45.454545</td>\n",
       "      <td>54.545455</td>\n",
       "      <td>-1</td>\n",
       "    </tr>\n",
       "    <tr>\n",
       "      <th>7</th>\n",
       "      <td>0.000000</td>\n",
       "      <td>0.0</td>\n",
       "      <td>0.000000</td>\n",
       "      <td>0.000000</td>\n",
       "      <td>9.090909</td>\n",
       "      <td>18.181818</td>\n",
       "      <td>0.000000</td>\n",
       "      <td>9.090909</td>\n",
       "      <td>0.000000</td>\n",
       "      <td>0.000000</td>\n",
       "      <td>...</td>\n",
       "      <td>0.000000</td>\n",
       "      <td>0.000000</td>\n",
       "      <td>0.000000</td>\n",
       "      <td>90.909091</td>\n",
       "      <td>18.181818</td>\n",
       "      <td>18.181818</td>\n",
       "      <td>45.454545</td>\n",
       "      <td>63.636364</td>\n",
       "      <td>100.000000</td>\n",
       "      <td>-1</td>\n",
       "    </tr>\n",
       "    <tr>\n",
       "      <th>8</th>\n",
       "      <td>18.181818</td>\n",
       "      <td>0.0</td>\n",
       "      <td>0.000000</td>\n",
       "      <td>0.000000</td>\n",
       "      <td>0.000000</td>\n",
       "      <td>9.090909</td>\n",
       "      <td>0.000000</td>\n",
       "      <td>0.000000</td>\n",
       "      <td>0.000000</td>\n",
       "      <td>18.181818</td>\n",
       "      <td>...</td>\n",
       "      <td>0.000000</td>\n",
       "      <td>0.000000</td>\n",
       "      <td>0.000000</td>\n",
       "      <td>0.000000</td>\n",
       "      <td>9.090909</td>\n",
       "      <td>9.090909</td>\n",
       "      <td>36.363636</td>\n",
       "      <td>45.454545</td>\n",
       "      <td>90.909091</td>\n",
       "      <td>-1</td>\n",
       "    </tr>\n",
       "    <tr>\n",
       "      <th>9</th>\n",
       "      <td>0.000000</td>\n",
       "      <td>0.0</td>\n",
       "      <td>0.000000</td>\n",
       "      <td>0.000000</td>\n",
       "      <td>9.090909</td>\n",
       "      <td>18.181818</td>\n",
       "      <td>0.000000</td>\n",
       "      <td>9.090909</td>\n",
       "      <td>9.090909</td>\n",
       "      <td>9.090909</td>\n",
       "      <td>...</td>\n",
       "      <td>0.000000</td>\n",
       "      <td>9.090909</td>\n",
       "      <td>9.090909</td>\n",
       "      <td>63.636364</td>\n",
       "      <td>18.181818</td>\n",
       "      <td>0.000000</td>\n",
       "      <td>18.181818</td>\n",
       "      <td>27.272727</td>\n",
       "      <td>54.545455</td>\n",
       "      <td>-1</td>\n",
       "    </tr>\n",
       "  </tbody>\n",
       "</table>\n",
       "<p>10 rows × 189 columns</p>\n",
       "</div>"
      ],
      "text/plain": [
       "    Feature1  Feature2  Feature3  Feature4   Feature5   Feature6  Feature7  \\\n",
       "0   0.000000       0.0  0.000000  0.000000   9.090909  27.272727  0.000000   \n",
       "1   0.000000       0.0  0.000000  0.000000   9.090909  27.272727  0.000000   \n",
       "2   9.090909       0.0  0.000000  0.000000   0.000000  18.181818  0.000000   \n",
       "3   0.000000       0.0  0.000000  9.090909   9.090909   9.090909  0.000000   \n",
       "4   0.000000       0.0  9.090909  9.090909   0.000000  18.181818  0.000000   \n",
       "5   9.090909       0.0  9.090909  9.090909  18.181818   0.000000  9.090909   \n",
       "6   0.000000       0.0  0.000000  0.000000   9.090909   0.000000  0.000000   \n",
       "7   0.000000       0.0  0.000000  0.000000   9.090909  18.181818  0.000000   \n",
       "8  18.181818       0.0  0.000000  0.000000   0.000000   9.090909  0.000000   \n",
       "9   0.000000       0.0  0.000000  0.000000   9.090909  18.181818  0.000000   \n",
       "\n",
       "    Feature8   Feature9  Feature10  ...    Feature180  Feature181  Feature182  \\\n",
       "0   9.090909   0.000000   9.090909  ...      0.000000    0.000000    0.000000   \n",
       "1   9.090909   0.000000   9.090909  ...      0.000000    0.000000    0.000000   \n",
       "2   9.090909   0.000000   9.090909  ...      0.000000   90.909091   90.909091   \n",
       "3  18.181818   0.000000   0.000000  ...      0.000000   36.363636   36.363636   \n",
       "4   0.000000   0.000000   9.090909  ...      9.090909   18.181818   54.545455   \n",
       "5   0.000000  18.181818   9.090909  ...      9.090909   45.454545   54.545455   \n",
       "6   0.000000   0.000000  18.181818  ...     18.181818   27.272727   72.727273   \n",
       "7   9.090909   0.000000   0.000000  ...      0.000000    0.000000    0.000000   \n",
       "8   0.000000   0.000000  18.181818  ...      0.000000    0.000000    0.000000   \n",
       "9   9.090909   9.090909   9.090909  ...      0.000000    9.090909    9.090909   \n",
       "\n",
       "   Feature183  Feature184  Feature185  Feature186  Feature187  Feature188  \\\n",
       "0   90.909091   18.181818   18.181818   27.272727   63.636364  100.000000   \n",
       "1   90.909091   18.181818   18.181818   27.272727   63.636364  100.000000   \n",
       "2  100.000000   27.272727    0.000000   27.272727   63.636364   81.818182   \n",
       "3   63.636364    9.090909    9.090909   27.272727   54.545455   72.727273   \n",
       "4   90.909091   45.454545   45.454545   63.636364   72.727273   81.818182   \n",
       "5   90.909091  100.000000    0.000000    0.000000    0.000000  100.000000   \n",
       "6   90.909091    9.090909    9.090909   36.363636   45.454545   54.545455   \n",
       "7   90.909091   18.181818   18.181818   45.454545   63.636364  100.000000   \n",
       "8    0.000000    9.090909    9.090909   36.363636   45.454545   90.909091   \n",
       "9   63.636364   18.181818    0.000000   18.181818   27.272727   54.545455   \n",
       "\n",
       "   class  \n",
       "0     -1  \n",
       "1     -1  \n",
       "2     -1  \n",
       "3     -1  \n",
       "4     -1  \n",
       "5     -1  \n",
       "6     -1  \n",
       "7     -1  \n",
       "8     -1  \n",
       "9     -1  \n",
       "\n",
       "[10 rows x 189 columns]"
      ]
     },
     "execution_count": 5,
     "metadata": {},
     "output_type": "execute_result"
    }
   ],
   "source": [
    "train_data.head(10)"
   ]
  },
  {
   "cell_type": "code",
   "execution_count": 6,
   "metadata": {
    "colab": {
     "base_uri": "https://localhost:8080/",
     "height": 102
    },
    "colab_type": "code",
    "id": "oUizaGP7X0qV",
    "outputId": "1254ba4b-5c28-4b97-b22c-9a743d43e3e5"
   },
   "outputs": [
    {
     "name": "stdout",
     "output_type": "stream",
     "text": [
      "<class 'pandas.core.frame.DataFrame'>\n",
      "RangeIndex: 6989 entries, 0 to 6988\n",
      "Columns: 189 entries, Feature1 to class\n",
      "dtypes: float64(188), int64(1)\n",
      "memory usage: 10.1 MB\n"
     ]
    }
   ],
   "source": [
    "train_data.info()"
   ]
  },
  {
   "cell_type": "code",
   "execution_count": 7,
   "metadata": {
    "colab": {
     "base_uri": "https://localhost:8080/",
     "height": 264
    },
    "colab_type": "code",
    "id": "37b1kL7kX0qX",
    "outputId": "133bdc23-7beb-4dd1-f185-56677a849e40"
   },
   "outputs": [
    {
     "data": {
      "image/png": "[encoded data removed]",
      "text/plain": [
       "<Figure size 432x288 with 1 Axes>"
      ]
     },
     "metadata": {},
     "output_type": "display_data"
    }
   ],
   "source": [
    "ax=train_data['class'].value_counts().plot.pie(explode=[0,0.1],autopct='%1.1f%%' ,shadow=True)\n",
    "ax.set_title('Distribution of Target Class')\n",
    "ax.set_ylabel('')\n",
    "plt.show()"
   ]
  },
  {
   "cell_type": "code",
   "execution_count": 8,
   "metadata": {
    "colab": {
     "base_uri": "https://localhost:8080/",
     "height": 313
    },
    "colab_type": "code",
    "id": "EFnl1TDaX0qZ",
    "outputId": "10abedf2-cc28-406b-c2fb-cba1c46e2ed9"
   },
   "outputs": [
    {
     "name": "stdout",
     "output_type": "stream",
     "text": [
      "AMP:  2618\n",
      "Non AMP :  4371\n"
     ]
    },
    {
     "data": {
      "image/png": "[encoded data removed]",
      "text/plain": [
       "<Figure size 432x288 with 1 Axes>"
      ]
     },
     "metadata": {
      "needs_background": "light"
     },
     "output_type": "display_data"
    }
   ],
   "source": [
    "import seaborn as sb\n",
    "\n",
    "plot_sb = sb.countplot(train_data['class'], label='Total')\n",
    "NonAMP, AMP = train_data['class'].value_counts()\n",
    "print('AMP: ',AMP)\n",
    "print('Non AMP : ',NonAMP)"
   ]
  },
  {
   "cell_type": "markdown",
   "metadata": {
    "colab_type": "text",
    "id": "crv1w3k_22rF"
   },
   "source": [
    "## Feature Scaling"
   ]
  },
  {
   "cell_type": "code",
   "execution_count": 9,
   "metadata": {
    "colab": {
     "base_uri": "https://localhost:8080/",
     "height": 253
    },
    "colab_type": "code",
    "id": "Ot-JcOu_VYf6",
    "outputId": "e7af7e85-4a51-4cd3-a07d-4062d7818ee8"
   },
   "outputs": [
    {
     "data": {
      "text/html": [
       "<div>\n",
       "<style scoped>\n",
       "    .dataframe tbody tr th:only-of-type {\n",
       "        vertical-align: middle;\n",
       "    }\n",
       "\n",
       "    .dataframe tbody tr th {\n",
       "        vertical-align: top;\n",
       "    }\n",
       "\n",
       "    .dataframe thead th {\n",
       "        text-align: right;\n",
       "    }\n",
       "</style>\n",
       "<table border=\"1\" class=\"dataframe\">\n",
       "  <thead>\n",
       "    <tr style=\"text-align: right;\">\n",
       "      <th></th>\n",
       "      <th>Feature1</th>\n",
       "      <th>Feature2</th>\n",
       "      <th>Feature3</th>\n",
       "      <th>Feature4</th>\n",
       "      <th>Feature5</th>\n",
       "      <th>Feature6</th>\n",
       "      <th>Feature7</th>\n",
       "      <th>Feature8</th>\n",
       "      <th>Feature9</th>\n",
       "      <th>Feature10</th>\n",
       "      <th>...</th>\n",
       "      <th>Feature180</th>\n",
       "      <th>Feature181</th>\n",
       "      <th>Feature182</th>\n",
       "      <th>Feature183</th>\n",
       "      <th>Feature184</th>\n",
       "      <th>Feature185</th>\n",
       "      <th>Feature186</th>\n",
       "      <th>Feature187</th>\n",
       "      <th>Feature188</th>\n",
       "      <th>class</th>\n",
       "    </tr>\n",
       "  </thead>\n",
       "  <tbody>\n",
       "    <tr>\n",
       "      <th>0</th>\n",
       "      <td>0.000000</td>\n",
       "      <td>0.0</td>\n",
       "      <td>0.000000</td>\n",
       "      <td>0.000000</td>\n",
       "      <td>0.194805</td>\n",
       "      <td>0.373946</td>\n",
       "      <td>0.000000</td>\n",
       "      <td>0.227273</td>\n",
       "      <td>0.000000</td>\n",
       "      <td>0.147727</td>\n",
       "      <td>...</td>\n",
       "      <td>0.000000</td>\n",
       "      <td>0.000000</td>\n",
       "      <td>0.000000</td>\n",
       "      <td>0.909091</td>\n",
       "      <td>0.181818</td>\n",
       "      <td>0.231975</td>\n",
       "      <td>0.303030</td>\n",
       "      <td>0.656891</td>\n",
       "      <td>1.000000</td>\n",
       "      <td>0.0</td>\n",
       "    </tr>\n",
       "    <tr>\n",
       "      <th>1</th>\n",
       "      <td>0.000000</td>\n",
       "      <td>0.0</td>\n",
       "      <td>0.000000</td>\n",
       "      <td>0.000000</td>\n",
       "      <td>0.194805</td>\n",
       "      <td>0.373946</td>\n",
       "      <td>0.000000</td>\n",
       "      <td>0.227273</td>\n",
       "      <td>0.000000</td>\n",
       "      <td>0.147727</td>\n",
       "      <td>...</td>\n",
       "      <td>0.000000</td>\n",
       "      <td>0.000000</td>\n",
       "      <td>0.000000</td>\n",
       "      <td>0.909091</td>\n",
       "      <td>0.181818</td>\n",
       "      <td>0.231975</td>\n",
       "      <td>0.303030</td>\n",
       "      <td>0.656891</td>\n",
       "      <td>1.000000</td>\n",
       "      <td>0.0</td>\n",
       "    </tr>\n",
       "    <tr>\n",
       "      <th>2</th>\n",
       "      <td>0.142857</td>\n",
       "      <td>0.0</td>\n",
       "      <td>0.000000</td>\n",
       "      <td>0.000000</td>\n",
       "      <td>0.000000</td>\n",
       "      <td>0.249297</td>\n",
       "      <td>0.000000</td>\n",
       "      <td>0.227273</td>\n",
       "      <td>0.000000</td>\n",
       "      <td>0.147727</td>\n",
       "      <td>...</td>\n",
       "      <td>0.000000</td>\n",
       "      <td>0.959596</td>\n",
       "      <td>0.928854</td>\n",
       "      <td>1.000000</td>\n",
       "      <td>0.272727</td>\n",
       "      <td>0.000000</td>\n",
       "      <td>0.303030</td>\n",
       "      <td>0.656891</td>\n",
       "      <td>0.818182</td>\n",
       "      <td>0.0</td>\n",
       "    </tr>\n",
       "    <tr>\n",
       "      <th>3</th>\n",
       "      <td>0.000000</td>\n",
       "      <td>0.0</td>\n",
       "      <td>0.000000</td>\n",
       "      <td>0.190083</td>\n",
       "      <td>0.194805</td>\n",
       "      <td>0.124649</td>\n",
       "      <td>0.000000</td>\n",
       "      <td>0.454545</td>\n",
       "      <td>0.000000</td>\n",
       "      <td>0.000000</td>\n",
       "      <td>...</td>\n",
       "      <td>0.000000</td>\n",
       "      <td>0.383838</td>\n",
       "      <td>0.371542</td>\n",
       "      <td>0.636364</td>\n",
       "      <td>0.090909</td>\n",
       "      <td>0.115987</td>\n",
       "      <td>0.303030</td>\n",
       "      <td>0.563050</td>\n",
       "      <td>0.727273</td>\n",
       "      <td>0.0</td>\n",
       "    </tr>\n",
       "    <tr>\n",
       "      <th>4</th>\n",
       "      <td>0.000000</td>\n",
       "      <td>0.0</td>\n",
       "      <td>0.295455</td>\n",
       "      <td>0.190083</td>\n",
       "      <td>0.000000</td>\n",
       "      <td>0.249297</td>\n",
       "      <td>0.000000</td>\n",
       "      <td>0.000000</td>\n",
       "      <td>0.000000</td>\n",
       "      <td>0.147727</td>\n",
       "      <td>...</td>\n",
       "      <td>0.109091</td>\n",
       "      <td>0.191919</td>\n",
       "      <td>0.557312</td>\n",
       "      <td>0.909091</td>\n",
       "      <td>0.454545</td>\n",
       "      <td>0.579937</td>\n",
       "      <td>0.707071</td>\n",
       "      <td>0.750733</td>\n",
       "      <td>0.818182</td>\n",
       "      <td>0.0</td>\n",
       "    </tr>\n",
       "    <tr>\n",
       "      <th>5</th>\n",
       "      <td>0.142857</td>\n",
       "      <td>0.0</td>\n",
       "      <td>0.295455</td>\n",
       "      <td>0.190083</td>\n",
       "      <td>0.389610</td>\n",
       "      <td>0.000000</td>\n",
       "      <td>0.146853</td>\n",
       "      <td>0.000000</td>\n",
       "      <td>0.303030</td>\n",
       "      <td>0.147727</td>\n",
       "      <td>...</td>\n",
       "      <td>0.109091</td>\n",
       "      <td>0.479798</td>\n",
       "      <td>0.557312</td>\n",
       "      <td>0.909091</td>\n",
       "      <td>1.000000</td>\n",
       "      <td>0.000000</td>\n",
       "      <td>0.000000</td>\n",
       "      <td>0.000000</td>\n",
       "      <td>1.000000</td>\n",
       "      <td>0.0</td>\n",
       "    </tr>\n",
       "    <tr>\n",
       "      <th>6</th>\n",
       "      <td>0.000000</td>\n",
       "      <td>0.0</td>\n",
       "      <td>0.000000</td>\n",
       "      <td>0.000000</td>\n",
       "      <td>0.194805</td>\n",
       "      <td>0.000000</td>\n",
       "      <td>0.000000</td>\n",
       "      <td>0.000000</td>\n",
       "      <td>0.000000</td>\n",
       "      <td>0.295455</td>\n",
       "      <td>...</td>\n",
       "      <td>0.218182</td>\n",
       "      <td>0.287879</td>\n",
       "      <td>0.743083</td>\n",
       "      <td>0.909091</td>\n",
       "      <td>0.090909</td>\n",
       "      <td>0.115987</td>\n",
       "      <td>0.404040</td>\n",
       "      <td>0.469208</td>\n",
       "      <td>0.545455</td>\n",
       "      <td>0.0</td>\n",
       "    </tr>\n",
       "    <tr>\n",
       "      <th>7</th>\n",
       "      <td>0.000000</td>\n",
       "      <td>0.0</td>\n",
       "      <td>0.000000</td>\n",
       "      <td>0.000000</td>\n",
       "      <td>0.194805</td>\n",
       "      <td>0.249297</td>\n",
       "      <td>0.000000</td>\n",
       "      <td>0.227273</td>\n",
       "      <td>0.000000</td>\n",
       "      <td>0.000000</td>\n",
       "      <td>...</td>\n",
       "      <td>0.000000</td>\n",
       "      <td>0.000000</td>\n",
       "      <td>0.000000</td>\n",
       "      <td>0.909091</td>\n",
       "      <td>0.181818</td>\n",
       "      <td>0.231975</td>\n",
       "      <td>0.505051</td>\n",
       "      <td>0.656891</td>\n",
       "      <td>1.000000</td>\n",
       "      <td>0.0</td>\n",
       "    </tr>\n",
       "    <tr>\n",
       "      <th>8</th>\n",
       "      <td>0.285714</td>\n",
       "      <td>0.0</td>\n",
       "      <td>0.000000</td>\n",
       "      <td>0.000000</td>\n",
       "      <td>0.000000</td>\n",
       "      <td>0.124649</td>\n",
       "      <td>0.000000</td>\n",
       "      <td>0.000000</td>\n",
       "      <td>0.000000</td>\n",
       "      <td>0.295455</td>\n",
       "      <td>...</td>\n",
       "      <td>0.000000</td>\n",
       "      <td>0.000000</td>\n",
       "      <td>0.000000</td>\n",
       "      <td>0.000000</td>\n",
       "      <td>0.090909</td>\n",
       "      <td>0.115987</td>\n",
       "      <td>0.404040</td>\n",
       "      <td>0.469208</td>\n",
       "      <td>0.909091</td>\n",
       "      <td>0.0</td>\n",
       "    </tr>\n",
       "    <tr>\n",
       "      <th>9</th>\n",
       "      <td>0.000000</td>\n",
       "      <td>0.0</td>\n",
       "      <td>0.000000</td>\n",
       "      <td>0.000000</td>\n",
       "      <td>0.194805</td>\n",
       "      <td>0.249297</td>\n",
       "      <td>0.000000</td>\n",
       "      <td>0.227273</td>\n",
       "      <td>0.151515</td>\n",
       "      <td>0.147727</td>\n",
       "      <td>...</td>\n",
       "      <td>0.000000</td>\n",
       "      <td>0.095960</td>\n",
       "      <td>0.092885</td>\n",
       "      <td>0.636364</td>\n",
       "      <td>0.181818</td>\n",
       "      <td>0.000000</td>\n",
       "      <td>0.202020</td>\n",
       "      <td>0.281525</td>\n",
       "      <td>0.545455</td>\n",
       "      <td>0.0</td>\n",
       "    </tr>\n",
       "  </tbody>\n",
       "</table>\n",
       "<p>10 rows × 189 columns</p>\n",
       "</div>"
      ],
      "text/plain": [
       "   Feature1  Feature2  Feature3  Feature4  Feature5  Feature6  Feature7  \\\n",
       "0  0.000000       0.0  0.000000  0.000000  0.194805  0.373946  0.000000   \n",
       "1  0.000000       0.0  0.000000  0.000000  0.194805  0.373946  0.000000   \n",
       "2  0.142857       0.0  0.000000  0.000000  0.000000  0.249297  0.000000   \n",
       "3  0.000000       0.0  0.000000  0.190083  0.194805  0.124649  0.000000   \n",
       "4  0.000000       0.0  0.295455  0.190083  0.000000  0.249297  0.000000   \n",
       "5  0.142857       0.0  0.295455  0.190083  0.389610  0.000000  0.146853   \n",
       "6  0.000000       0.0  0.000000  0.000000  0.194805  0.000000  0.000000   \n",
       "7  0.000000       0.0  0.000000  0.000000  0.194805  0.249297  0.000000   \n",
       "8  0.285714       0.0  0.000000  0.000000  0.000000  0.124649  0.000000   \n",
       "9  0.000000       0.0  0.000000  0.000000  0.194805  0.249297  0.000000   \n",
       "\n",
       "   Feature8  Feature9  Feature10  ...    Feature180  Feature181  Feature182  \\\n",
       "0  0.227273  0.000000   0.147727  ...      0.000000    0.000000    0.000000   \n",
       "1  0.227273  0.000000   0.147727  ...      0.000000    0.000000    0.000000   \n",
       "2  0.227273  0.000000   0.147727  ...      0.000000    0.959596    0.928854   \n",
       "3  0.454545  0.000000   0.000000  ...      0.000000    0.383838    0.371542   \n",
       "4  0.000000  0.000000   0.147727  ...      0.109091    0.191919    0.557312   \n",
       "5  0.000000  0.303030   0.147727  ...      0.109091    0.479798    0.557312   \n",
       "6  0.000000  0.000000   0.295455  ...      0.218182    0.287879    0.743083   \n",
       "7  0.227273  0.000000   0.000000  ...      0.000000    0.000000    0.000000   \n",
       "8  0.000000  0.000000   0.295455  ...      0.000000    0.000000    0.000000   \n",
       "9  0.227273  0.151515   0.147727  ...      0.000000    0.095960    0.092885   \n",
       "\n",
       "   Feature183  Feature184  Feature185  Feature186  Feature187  Feature188  \\\n",
       "0    0.909091    0.181818    0.231975    0.303030    0.656891    1.000000   \n",
       "1    0.909091    0.181818    0.231975    0.303030    0.656891    1.000000   \n",
       "2    1.000000    0.272727    0.000000    0.303030    0.656891    0.818182   \n",
       "3    0.636364    0.090909    0.115987    0.303030    0.563050    0.727273   \n",
       "4    0.909091    0.454545    0.579937    0.707071    0.750733    0.818182   \n",
       "5    0.909091    1.000000    0.000000    0.000000    0.000000    1.000000   \n",
       "6    0.909091    0.090909    0.115987    0.404040    0.469208    0.545455   \n",
       "7    0.909091    0.181818    0.231975    0.505051    0.656891    1.000000   \n",
       "8    0.000000    0.090909    0.115987    0.404040    0.469208    0.909091   \n",
       "9    0.636364    0.181818    0.000000    0.202020    0.281525    0.545455   \n",
       "\n",
       "   class  \n",
       "0    0.0  \n",
       "1    0.0  \n",
       "2    0.0  \n",
       "3    0.0  \n",
       "4    0.0  \n",
       "5    0.0  \n",
       "6    0.0  \n",
       "7    0.0  \n",
       "8    0.0  \n",
       "9    0.0  \n",
       "\n",
       "[10 rows x 189 columns]"
      ]
     },
     "execution_count": 9,
     "metadata": {},
     "output_type": "execute_result"
    }
   ],
   "source": [
    "from sklearn import preprocessing\n",
    "scaler = preprocessing.MinMaxScaler()\n",
    "scaler.fit(train_data)\n",
    "train_data = pd.DataFrame(scaler.transform(train_data), index=train_data.index, columns = train_data.columns)\n",
    "train_data.head(10)\n"
   ]
  },
  {
   "cell_type": "markdown",
   "metadata": {
    "colab_type": "text",
    "id": "gtUYyvS6X0qm"
   },
   "source": [
    "## Feature Extraction"
   ]
  },
  {
   "cell_type": "code",
   "execution_count": 10,
   "metadata": {
    "colab": {},
    "colab_type": "code",
    "id": "Q98-pyQAX0qn"
   },
   "outputs": [],
   "source": [
    "X = train_data.loc[:,train_data.columns!='class']\n",
    "y = train_data[['class']]"
   ]
  },
  {
   "cell_type": "code",
   "execution_count": 11,
   "metadata": {
    "colab": {
     "base_uri": "https://localhost:8080/",
     "height": 34
    },
    "colab_type": "code",
    "id": "aki2438UP6To",
    "outputId": "41084e66-a7ed-49f1-d3c8-47a0047e39a0"
   },
   "outputs": [
    {
     "data": {
      "text/plain": [
       "(6989, 188)"
      ]
     },
     "execution_count": 11,
     "metadata": {},
     "output_type": "execute_result"
    }
   ],
   "source": [
    "X.shape"
   ]
  },
  {
   "cell_type": "code",
   "execution_count": 12,
   "metadata": {
    "colab": {
     "base_uri": "https://localhost:8080/",
     "height": 34
    },
    "colab_type": "code",
    "id": "Z3Ib64bBP9rh",
    "outputId": "40f0493c-7039-48f1-ee93-2886160ecfb3"
   },
   "outputs": [
    {
     "data": {
      "text/plain": [
       "(6989, 1)"
      ]
     },
     "execution_count": 12,
     "metadata": {},
     "output_type": "execute_result"
    }
   ],
   "source": [
    "y.shape"
   ]
  },
  {
   "cell_type": "code",
   "execution_count": 13,
   "metadata": {
    "colab": {},
    "colab_type": "code",
    "id": "7PxGym1IX0qo"
   },
   "outputs": [],
   "source": [
    "from sklearn.model_selection import train_test_split\n",
    "train_X, test_X, train_y, test_y = train_test_split(X, y, stratify=y, test_size=0.25)\n",
    "#train_X, val_X, train_y, val_y = train_test_split(train_X, train_y, stratify=train_y, test_size=0.1)"
   ]
  },
  {
   "cell_type": "code",
   "execution_count": 14,
   "metadata": {
    "colab": {
     "base_uri": "https://localhost:8080/",
     "height": 51
    },
    "colab_type": "code",
    "id": "s6JsIZrlX0qq",
    "outputId": "aad2cdac-d79b-4b87-b821-46b7e07c0721"
   },
   "outputs": [
    {
     "name": "stdout",
     "output_type": "stream",
     "text": [
      "Train shape :  (5241, 188)\n",
      "Test shape :  (1748, 188)\n"
     ]
    }
   ],
   "source": [
    "print(\"Train shape : \",train_X.shape)\n",
    "#print(\"Validation shape : \",val_X.shape)\n",
    "print(\"Test shape : \",test_X.shape)"
   ]
  },
  {
   "cell_type": "code",
   "execution_count": 15,
   "metadata": {
    "colab": {
     "base_uri": "https://localhost:8080/",
     "height": 85
    },
    "colab_type": "code",
    "id": "BC78f3aAX0qs",
    "outputId": "e5177db2-9934-4ca0-ccd1-19baf718a7ca"
   },
   "outputs": [
    {
     "name": "stdout",
     "output_type": "stream",
     "text": [
      "[[0.000e+00 3.278e+03]\n",
      " [1.000e+00 1.963e+03]]\n",
      "[[0.000e+00 1.093e+03]\n",
      " [1.000e+00 6.550e+02]]\n"
     ]
    }
   ],
   "source": [
    "unique, counts = np.unique(train_y, return_counts=True)\n",
    "print(np.asarray((unique, counts)).T)\n",
    "\n",
    "# unique, counts = np.unique(val_y, return_counts=True)\n",
    "# print(np.asarray((unique, counts)).T)\n",
    "\n",
    "unique, counts = np.unique(test_y, return_counts=True)\n",
    "print(np.asarray((unique, counts)).T)"
   ]
  },
  {
   "cell_type": "markdown",
   "metadata": {
    "colab_type": "text",
    "id": "BMgYT2T5X0q3"
   },
   "source": [
    "## Undersampling"
   ]
  },
  {
   "cell_type": "code",
   "execution_count": 16,
   "metadata": {
    "colab": {},
    "colab_type": "code",
    "id": "_zLDNlWOX0q5"
   },
   "outputs": [],
   "source": [
    "def undersampleData(train_text_features_tf, train_y):\n",
    "    rus = RandomUnderSampler(random_state=0)\n",
    "    X_resampled, y_resampled = rus.fit_resample(train_text_features_tf, train_y)\n",
    "    return X_resampled, y_resampled"
   ]
  },
  {
   "cell_type": "markdown",
   "metadata": {
    "colab_type": "text",
    "id": "JstWbPNoX0q7"
   },
   "source": [
    "## Oversampling"
   ]
  },
  {
   "cell_type": "code",
   "execution_count": 17,
   "metadata": {
    "colab": {},
    "colab_type": "code",
    "id": "RXx3pghRX0q7"
   },
   "outputs": [],
   "source": [
    "def oversampleData(train_text_features_tf, train_y):\n",
    "    from imblearn.over_sampling import SMOTE\n",
    "    smote = SMOTE('minority')\n",
    "    x_oversampled, y_oversampled = smote.fit_sample(train_text_features_tf, train_y)\n",
    "    return x_oversampled, y_oversampled"
   ]
  },
  {
   "cell_type": "markdown",
   "metadata": {
    "colab_type": "text",
    "id": "xNh2UICuX0q9"
   },
   "source": [
    "## Function for Confusion Matrix"
   ]
  },
  {
   "cell_type": "code",
   "execution_count": 18,
   "metadata": {
    "colab": {},
    "colab_type": "code",
    "id": "4FWB_s0ZX0q9"
   },
   "outputs": [],
   "source": [
    "def getConfusionMatrix(y_test, y_pred):\n",
    "  # Confusion matrix\n",
    "  mat = confusion_matrix(y_test, y_pred)\n",
    "  cm = pd.DataFrame(mat)\n",
    "  TP = cm.iloc[1,1] # True Positive\n",
    "  TN = cm.iloc[0,0] # True Negative\n",
    "  FP = cm.iloc[0,1] # False Positive\n",
    "  FN = cm.iloc[1,0] # False Negative\n",
    "\n",
    "  print('Sensitivity: {:.2%}'.format(TP/(FN+TP)))\n",
    "  print('Specificity: {:.2%}'.format(TN/(FP+TN)))\n",
    "  \n",
    "  sns.heatmap(mat.T, square=True, annot=True, fmt='d', cbar=True)\n",
    "  plt.title('A confusion matrix showing the frequency of misclassifications by our classifier')\n",
    "  plt.xlabel('true label')\n",
    "  plt.ylabel('predicted label');\n",
    "  plt.show()"
   ]
  },
  {
   "cell_type": "markdown",
   "metadata": {
    "colab_type": "text",
    "id": "hI8xshJ-X0q_"
   },
   "source": [
    "## Model"
   ]
  },
  {
   "cell_type": "code",
   "execution_count": 19,
   "metadata": {
    "colab": {},
    "colab_type": "code",
    "id": "ioiedQhvX0rA"
   },
   "outputs": [],
   "source": [
    "def model(model, X, train_X, train_y, test_X, test_y, undersampled = False, oversample = False):\n",
    "    \n",
    "\n",
    "    final_x = train_X\n",
    "    final_y = train_y\n",
    "    \n",
    "    \n",
    "    if undersampled:\n",
    "        print('Undersampling the dataset')\n",
    "        final_x, final_y = undersampleData(train_X, train_y)\n",
    "\n",
    "    if oversample:\n",
    "        print('Oversampling the dataset')\n",
    "        final_x, final_y = oversampleData(train_X, train_y)\n",
    "        \n",
    "    model.fit(final_x, final_y)\n",
    "\n",
    "    # predict the labels on validation dataset\n",
    "    predictions = model.predict(test_X)\n",
    "\n",
    "    # Use accuracy_score function to get the accuracy\n",
    "    print(\"Accuracy Score -> \",accuracy_score(predictions, test_y)*100)\n",
    "\n",
    "    print('F1Score', f1_score(predictions, test_y, average=\"macro\"))\n",
    "    print('Precision', precision_score(predictions, test_y, average=\"macro\"))\n",
    "    print('Recall', recall_score(predictions, test_y, average=\"macro\"))\n",
    "\n",
    "    getConfusionMatrix(test_y, predictions)"
   ]
  },
  {
   "cell_type": "markdown",
   "metadata": {
    "colab_type": "text",
    "id": "jVmvq76XX0rB"
   },
   "source": [
    "## Logistic Regression"
   ]
  },
  {
   "cell_type": "code",
   "execution_count": 20,
   "metadata": {},
   "outputs": [],
   "source": [
    "from sklearn.linear_model import LogisticRegression\n",
    "\n"
   ]
  },
  {
   "cell_type": "code",
   "execution_count": 21,
   "metadata": {
    "colab": {
     "base_uri": "https://localhost:8080/",
     "height": 367
    },
    "colab_type": "code",
    "id": "s_aVDzHrX0rB",
    "outputId": "07c32869-2488-4e75-9543-cd9e5329dee9"
   },
   "outputs": [
    {
     "name": "stdout",
     "output_type": "stream",
     "text": [
      "Undersampling the dataset\n",
      "Accuracy Score ->  80.09153318077803\n",
      "F1Score 0.7943640641479839\n",
      "Precision 0.8068499752065539\n",
      "Recall 0.7908774447947438\n",
      "Sensitivity: 83.05%\n",
      "Specificity: 78.32%\n"
     ]
    },
    {
     "data": {
      "image/png": "[encoded data removed]",
      "text/plain": [
       "<Figure size 432x288 with 2 Axes>"
      ]
     },
     "metadata": {
      "needs_background": "light"
     },
     "output_type": "display_data"
    }
   ],
   "source": [
    "model(LogisticRegression(random_state=0), X, train_X, train_y,\n",
    "      test_X, test_y, undersampled = True, oversample = False)"
   ]
  },
  {
   "cell_type": "code",
   "execution_count": 22,
   "metadata": {
    "colab": {
     "base_uri": "https://localhost:8080/",
     "height": 350
    },
    "colab_type": "code",
    "id": "ba8xWG6AX0rI",
    "outputId": "4ae19aa6-6cc2-49b9-e4fb-12ee1c3ab8d3"
   },
   "outputs": [
    {
     "name": "stdout",
     "output_type": "stream",
     "text": [
      "Accuracy Score ->  79.86270022883295\n",
      "F1Score 0.7836438923395445\n",
      "Precision 0.7817715790282366\n",
      "Recall 0.7858117442033452\n",
      "Sensitivity: 71.45%\n",
      "Specificity: 84.90%\n"
     ]
    },
    {
     "data": {
      "image/png": "[encoded data removed]",
      "text/plain": [
       "<Figure size 432x288 with 2 Axes>"
      ]
     },
     "metadata": {
      "needs_background": "light"
     },
     "output_type": "display_data"
    }
   ],
   "source": [
    "model(LogisticRegression(random_state=0), X, train_X, train_y,\n",
    "      test_X, test_y, undersampled = False, oversample = False)"
   ]
  },
  {
   "cell_type": "code",
   "execution_count": 23,
   "metadata": {
    "colab": {
     "base_uri": "https://localhost:8080/",
     "height": 367
    },
    "colab_type": "code",
    "id": "8ji7kQa0X0rK",
    "outputId": "134cfed8-0621-4826-cd2c-d61263a1679c"
   },
   "outputs": [
    {
     "name": "stdout",
     "output_type": "stream",
     "text": [
      "Oversampling the dataset\n",
      "Accuracy Score ->  80.49199084668193\n",
      "F1Score 0.7979347627478958\n",
      "Precision 0.8091344642869615\n",
      "Recall 0.7940502763605443\n",
      "Sensitivity: 82.60%\n",
      "Specificity: 79.23%\n"
     ]
    },
    {
     "data": {
      "image/png": "[encoded data removed]",
      "text/plain": [
       "<Figure size 432x288 with 2 Axes>"
      ]
     },
     "metadata": {
      "needs_background": "light"
     },
     "output_type": "display_data"
    }
   ],
   "source": [
    "model(LogisticRegression(random_state=0), X, train_X, train_y,\n",
    "      test_X, test_y, undersampled = False, oversample = True)"
   ]
  },
  {
   "cell_type": "markdown",
   "metadata": {
    "colab_type": "text",
    "id": "LgtSR_o3X0rO"
   },
   "source": [
    "## SVM"
   ]
  },
  {
   "cell_type": "code",
   "execution_count": 24,
   "metadata": {
    "colab": {
     "base_uri": "https://localhost:8080/",
     "height": 367
    },
    "colab_type": "code",
    "id": "DwSU_G1aX0rO",
    "outputId": "27e0e1fd-ab14-4dc2-9070-eaaf68e969b9"
   },
   "outputs": [
    {
     "name": "stdout",
     "output_type": "stream",
     "text": [
      "Undersampling the dataset\n",
      "Accuracy Score ->  80.26315789473685\n",
      "F1Score 0.797547649621069\n",
      "Precision 0.8140344873343903\n",
      "Recall 0.7956192670201128\n",
      "Sensitivity: 85.95%\n",
      "Specificity: 76.85%\n"
     ]
    },
    {
     "data": {
      "image/png": "[encoded data removed]",
      "text/plain": [
       "<Figure size 432x288 with 2 Axes>"
      ]
     },
     "metadata": {
      "needs_background": "light"
     },
     "output_type": "display_data"
    }
   ],
   "source": [
    "model(svm.SVC(C=1.0, kernel='linear', degree=3, gamma='auto'), X, train_X, train_y,\n",
    "      test_X, test_y, undersampled = True, oversample = False)"
   ]
  },
  {
   "cell_type": "code",
   "execution_count": 25,
   "metadata": {
    "colab": {
     "base_uri": "https://localhost:8080/",
     "height": 367
    },
    "colab_type": "code",
    "id": "bkb2qRL6X0rQ",
    "outputId": "7cc09145-230e-44ed-aee4-5c1aae953b0e"
   },
   "outputs": [
    {
     "name": "stdout",
     "output_type": "stream",
     "text": [
      "Oversampling the dataset\n",
      "Accuracy Score ->  80.43478260869566\n",
      "F1Score 0.7984912529072707\n",
      "Precision 0.8126537368262992\n",
      "Recall 0.7954371168174649\n",
      "Sensitivity: 84.58%\n",
      "Specificity: 77.95%\n"
     ]
    },
    {
     "data": {
      "image/png": "[encoded data removed]",
      "text/plain": [
       "<Figure size 432x288 with 2 Axes>"
      ]
     },
     "metadata": {
      "needs_background": "light"
     },
     "output_type": "display_data"
    }
   ],
   "source": [
    "model(svm.SVC(C=1.0, kernel='linear', degree=3, gamma='auto'), X, train_X, train_y,\n",
    "      test_X, test_y, undersampled = False, oversample = True)"
   ]
  },
  {
   "cell_type": "code",
   "execution_count": 26,
   "metadata": {
    "colab": {
     "base_uri": "https://localhost:8080/",
     "height": 351
    },
    "colab_type": "code",
    "id": "-OO2umh2cC0u",
    "outputId": "370bc3ff-2e80-4c3f-cf5e-0a085838f8cb"
   },
   "outputs": [
    {
     "name": "stdout",
     "output_type": "stream",
     "text": [
      "Accuracy Score ->  80.77803203661327\n",
      "F1Score 0.7962398627833007\n",
      "Precision 0.7982679508042156\n",
      "Recall 0.7945031286763844\n",
      "Sensitivity: 76.03%\n",
      "Specificity: 83.62%\n"
     ]
    },
    {
     "data": {
      "image/png": "[encoded data removed]",
      "text/plain": [
       "<Figure size 432x288 with 2 Axes>"
      ]
     },
     "metadata": {
      "needs_background": "light"
     },
     "output_type": "display_data"
    }
   ],
   "source": [
    "model(svm.SVC(C=1.0, kernel='linear', degree=3, gamma='auto'), X, train_X, train_y,\n",
    "      test_X, test_y, undersampled = False, oversample = False)"
   ]
  },
  {
   "cell_type": "markdown",
   "metadata": {
    "colab_type": "text",
    "id": "_-AdRwtYX0rY"
   },
   "source": [
    "## Random Forest"
   ]
  },
  {
   "cell_type": "code",
   "execution_count": 27,
   "metadata": {
    "colab": {
     "base_uri": "https://localhost:8080/",
     "height": 367
    },
    "colab_type": "code",
    "id": "yCAyClPsX0rY",
    "outputId": "3aeb56a6-ff90-4004-86ae-a739d52522fc"
   },
   "outputs": [
    {
     "name": "stdout",
     "output_type": "stream",
     "text": [
      "Oversampling the dataset\n",
      "Accuracy Score ->  80.54919908466819\n",
      "F1Score 0.8041629541368566\n",
      "Precision 0.8374290243953542\n",
      "Recall 0.8185890951676951\n",
      "Sensitivity: 96.49%\n",
      "Specificity: 71.00%\n"
     ]
    },
    {
     "data": {
      "image/png": "[encoded data removed]",
      "text/plain": [
       "<Figure size 432x288 with 2 Axes>"
      ]
     },
     "metadata": {
      "needs_background": "light"
     },
     "output_type": "display_data"
    }
   ],
   "source": [
    "#Random Forest Classifier \n",
    "\n",
    "model(RandomForestClassifier(n_estimators=100, max_depth=4,random_state=0), X, train_X, train_y,\n",
    "      test_X, test_y, undersampled = False, oversample = True)\n"
   ]
  },
  {
   "cell_type": "code",
   "execution_count": 28,
   "metadata": {
    "colab": {
     "base_uri": "https://localhost:8080/",
     "height": 371
    },
    "colab_type": "code",
    "id": "7UdVJRv4X0rZ",
    "outputId": "8efff620-6d2b-4d0e-b7eb-3d5a6b5761c2"
   },
   "outputs": [
    {
     "name": "stdout",
     "output_type": "stream",
     "text": [
      "Undersampling the dataset\n",
      "Accuracy Score ->  79.74828375286042\n",
      "F1Score 0.7965870361019944\n",
      "Precision 0.8331659484715364\n",
      "Recall 0.8166453594807684\n",
      "Sensitivity: 97.56%\n",
      "Specificity: 69.08%\n"
     ]
    },
    {
     "data": {
      "image/png": "[encoded data removed]",
      "text/plain": [
       "<Figure size 432x288 with 2 Axes>"
      ]
     },
     "metadata": {
      "needs_background": "light"
     },
     "output_type": "display_data"
    }
   ],
   "source": [
    "model(RandomForestClassifier(n_estimators=100, max_depth=4,random_state=0), X, train_X, train_y,\n",
    "      test_X, test_y, undersampled = True, oversample = False)\n"
   ]
  },
  {
   "cell_type": "code",
   "execution_count": 29,
   "metadata": {
    "colab": {
     "base_uri": "https://localhost:8080/",
     "height": 350
    },
    "colab_type": "code",
    "id": "H6YRIeBxX0rb",
    "outputId": "f0de0f62-e855-4c0f-daaa-9a5590124f96"
   },
   "outputs": [
    {
     "name": "stdout",
     "output_type": "stream",
     "text": [
      "Accuracy Score ->  83.0091533180778\n",
      "F1Score 0.8257149331520508\n",
      "Precision 0.8433340550204982\n",
      "Recall 0.8232006858537406\n",
      "Sensitivity: 89.62%\n",
      "Specificity: 79.05%\n"
     ]
    },
    {
     "data": {
      "image/png": "[encoded data removed]",
      "text/plain": [
       "<Figure size 432x288 with 2 Axes>"
      ]
     },
     "metadata": {
      "needs_background": "light"
     },
     "output_type": "display_data"
    }
   ],
   "source": [
    "model(RandomForestClassifier(n_estimators=100, max_depth=4,random_state=0), X, train_X, train_y,\n",
    "      test_X, test_y, undersampled = False, oversample = False)"
   ]
  }
 ],
 "metadata": {
  "colab": {
   "collapsed_sections": [],
   "name": "ML Bio Project Part 1.ipynb",
   "provenance": [],
   "toc_visible": true
  },
  "kernelspec": {
   "display_name": "Python 3",
   "language": "python",
   "name": "python3"
  },
  "language_info": {
   "codemirror_mode": {
    "name": "ipython",
    "version": 3
   },
   "file_extension": ".py",
   "mimetype": "text/x-python",
   "name": "python",
   "nbconvert_exporter": "python",
   "pygments_lexer": "ipython3",
   "version": "3.7.1"
  }
 },
 "nbformat": 4,
 "nbformat_minor": 1
}
